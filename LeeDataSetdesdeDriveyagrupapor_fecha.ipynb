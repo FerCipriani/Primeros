{
  "nbformat": 4,
  "nbformat_minor": 0,
  "metadata": {
    "colab": {
      "name": "LeeDataSetdesdeDriveyagrupapor fecha.ipynb",
      "provenance": [],
      "collapsed_sections": [],
      "authorship_tag": "ABX9TyNTEfSCFLAydEctsyG3sWWo",
      "include_colab_link": true
    },
    "kernelspec": {
      "name": "python3",
      "display_name": "Python 3"
    },
    "language_info": {
      "name": "python"
    }
  },
  "cells": [
    {
      "cell_type": "markdown",
      "metadata": {
        "id": "view-in-github",
        "colab_type": "text"
      },
      "source": [
        "<a href=\"https://colab.research.google.com/github/FerCipriani/Primeros/blob/main/LeeDataSetdesdeDriveyagrupapor_fecha.ipynb\" target=\"_parent\"><img src=\"https://colab.research.google.com/assets/colab-badge.svg\" alt=\"Open In Colab\"/></a>"
      ]
    },
    {
      "cell_type": "code",
      "metadata": {
        "colab": {
          "base_uri": "https://localhost:8080/"
        },
        "id": "wulrDYp6b9YK",
        "outputId": "a64a4398-752b-4311-9ecb-5315cbea6a7b"
      },
      "source": [
        "# Rutina para levantar los datos del Drive\n",
        "from google.colab import drive\n",
        "drive.mount('/content/drive')"
      ],
      "execution_count": 1,
      "outputs": [
        {
          "output_type": "stream",
          "text": [
            "Mounted at /content/drive\n"
          ],
          "name": "stdout"
        }
      ]
    },
    {
      "cell_type": "code",
      "metadata": {
        "id": "dCZY4Lm-gH_E"
      },
      "source": [
        "import pandas as pd\n",
        "import numpy as np"
      ],
      "execution_count": 2,
      "outputs": []
    },
    {
      "cell_type": "code",
      "metadata": {
        "colab": {
          "base_uri": "https://localhost:8080/"
        },
        "id": "WTnuNi_TdKku",
        "outputId": "34595a8e-94bd-4e3b-e7a8-14911fcd0a47"
      },
      "source": [
        "%cd /content/drive/My Drive/Colab Notebooks/DataSets/ # Cambio al directorio donde tengo el dataset"
      ],
      "execution_count": 4,
      "outputs": [
        {
          "output_type": "stream",
          "text": [
            "/content/drive/My Drive/Colab Notebooks/DataSets\n"
          ],
          "name": "stdout"
        }
      ]
    },
    {
      "cell_type": "code",
      "metadata": {
        "id": "IU79QFfbfidI"
      },
      "source": [
        "Data = pd.read_csv(\"HRDataset_v14.csv\") # Levanto el dataset"
      ],
      "execution_count": 30,
      "outputs": []
    },
    {
      "cell_type": "code",
      "metadata": {
        "colab": {
          "base_uri": "https://localhost:8080/"
        },
        "id": "JXwvPeYigf9s",
        "outputId": "33d94805-b9ea-4573-f6c6-49ef3c0868cf"
      },
      "source": [
        "Data.head"
      ],
      "execution_count": 31,
      "outputs": [
        {
          "output_type": "execute_result",
          "data": {
            "text/plain": [
              "<bound method NDFrame.head of                 Employee_Name  EmpID  ...  DaysLateLast30  Absences\n",
              "0         Adinolfi, Wilson  K  10026  ...               0         1\n",
              "1    Ait Sidi, Karthikeyan     10084  ...               0        17\n",
              "2           Akinkuolie, Sarah  10196  ...               0         3\n",
              "3                Alagbe,Trina  10088  ...               0        15\n",
              "4            Anderson, Carol   10069  ...               0         2\n",
              "..                        ...    ...  ...             ...       ...\n",
              "306            Woodson, Jason  10135  ...               0        13\n",
              "307        Ybarra, Catherine   10301  ...               5         4\n",
              "308          Zamora, Jennifer  10010  ...               0        16\n",
              "309               Zhou, Julia  10043  ...               0        11\n",
              "310             Zima, Colleen  10271  ...               0         2\n",
              "\n",
              "[311 rows x 36 columns]>"
            ]
          },
          "metadata": {
            "tags": []
          },
          "execution_count": 31
        }
      ]
    },
    {
      "cell_type": "code",
      "metadata": {
        "colab": {
          "base_uri": "https://localhost:8080/"
        },
        "id": "F8psOzvIgwqZ",
        "outputId": "83f98255-d5b8-4691-8455-c900e325f77f"
      },
      "source": [
        "Data.columns.values"
      ],
      "execution_count": 32,
      "outputs": [
        {
          "output_type": "execute_result",
          "data": {
            "text/plain": [
              "array(['Employee_Name', 'EmpID', 'MarriedID', 'MaritalStatusID',\n",
              "       'GenderID', 'EmpStatusID', 'DeptID', 'PerfScoreID',\n",
              "       'FromDiversityJobFairID', 'Salary', 'Termd', 'PositionID',\n",
              "       'Position', 'State', 'Zip', 'DOB', 'Sex', 'MaritalDesc',\n",
              "       'CitizenDesc', 'HispanicLatino', 'RaceDesc', 'DateofHire',\n",
              "       'DateofTermination', 'TermReason', 'EmploymentStatus',\n",
              "       'Department', 'ManagerName', 'ManagerID', 'RecruitmentSource',\n",
              "       'PerformanceScore', 'EngagementSurvey', 'EmpSatisfaction',\n",
              "       'SpecialProjectsCount', 'LastPerformanceReview_Date',\n",
              "       'DaysLateLast30', 'Absences'], dtype=object)"
            ]
          },
          "metadata": {
            "tags": []
          },
          "execution_count": 32
        }
      ]
    },
    {
      "cell_type": "code",
      "metadata": {
        "colab": {
          "base_uri": "https://localhost:8080/",
          "height": 419
        },
        "id": "RNFPPrrNg3a4",
        "outputId": "0e3df005-0253-4525-b727-ecb8d2a9a2bf"
      },
      "source": [
        "Data1 = Data[['EmpID','DateofHire']] # Me quedo con las columnas que necesito\n",
        "Data1"
      ],
      "execution_count": 33,
      "outputs": [
        {
          "output_type": "execute_result",
          "data": {
            "text/html": [
              "<div>\n",
              "<style scoped>\n",
              "    .dataframe tbody tr th:only-of-type {\n",
              "        vertical-align: middle;\n",
              "    }\n",
              "\n",
              "    .dataframe tbody tr th {\n",
              "        vertical-align: top;\n",
              "    }\n",
              "\n",
              "    .dataframe thead th {\n",
              "        text-align: right;\n",
              "    }\n",
              "</style>\n",
              "<table border=\"1\" class=\"dataframe\">\n",
              "  <thead>\n",
              "    <tr style=\"text-align: right;\">\n",
              "      <th></th>\n",
              "      <th>EmpID</th>\n",
              "      <th>DateofHire</th>\n",
              "    </tr>\n",
              "  </thead>\n",
              "  <tbody>\n",
              "    <tr>\n",
              "      <th>0</th>\n",
              "      <td>10026</td>\n",
              "      <td>7/5/2011</td>\n",
              "    </tr>\n",
              "    <tr>\n",
              "      <th>1</th>\n",
              "      <td>10084</td>\n",
              "      <td>3/30/2015</td>\n",
              "    </tr>\n",
              "    <tr>\n",
              "      <th>2</th>\n",
              "      <td>10196</td>\n",
              "      <td>7/5/2011</td>\n",
              "    </tr>\n",
              "    <tr>\n",
              "      <th>3</th>\n",
              "      <td>10088</td>\n",
              "      <td>1/7/2008</td>\n",
              "    </tr>\n",
              "    <tr>\n",
              "      <th>4</th>\n",
              "      <td>10069</td>\n",
              "      <td>7/11/2011</td>\n",
              "    </tr>\n",
              "    <tr>\n",
              "      <th>...</th>\n",
              "      <td>...</td>\n",
              "      <td>...</td>\n",
              "    </tr>\n",
              "    <tr>\n",
              "      <th>306</th>\n",
              "      <td>10135</td>\n",
              "      <td>7/7/2014</td>\n",
              "    </tr>\n",
              "    <tr>\n",
              "      <th>307</th>\n",
              "      <td>10301</td>\n",
              "      <td>9/2/2008</td>\n",
              "    </tr>\n",
              "    <tr>\n",
              "      <th>308</th>\n",
              "      <td>10010</td>\n",
              "      <td>4/10/2010</td>\n",
              "    </tr>\n",
              "    <tr>\n",
              "      <th>309</th>\n",
              "      <td>10043</td>\n",
              "      <td>3/30/2015</td>\n",
              "    </tr>\n",
              "    <tr>\n",
              "      <th>310</th>\n",
              "      <td>10271</td>\n",
              "      <td>9/29/2014</td>\n",
              "    </tr>\n",
              "  </tbody>\n",
              "</table>\n",
              "<p>311 rows × 2 columns</p>\n",
              "</div>"
            ],
            "text/plain": [
              "     EmpID DateofHire\n",
              "0    10026   7/5/2011\n",
              "1    10084  3/30/2015\n",
              "2    10196   7/5/2011\n",
              "3    10088   1/7/2008\n",
              "4    10069  7/11/2011\n",
              "..     ...        ...\n",
              "306  10135   7/7/2014\n",
              "307  10301   9/2/2008\n",
              "308  10010  4/10/2010\n",
              "309  10043  3/30/2015\n",
              "310  10271  9/29/2014\n",
              "\n",
              "[311 rows x 2 columns]"
            ]
          },
          "metadata": {
            "tags": []
          },
          "execution_count": 33
        }
      ]
    },
    {
      "cell_type": "code",
      "metadata": {
        "colab": {
          "base_uri": "https://localhost:8080/"
        },
        "id": "qEien1FJo4eo",
        "outputId": "a7163449-ee37-44a9-aa50-363c08acb689"
      },
      "source": [
        "Data1['DateofHire']= pd.to_datetime(Data1['DateofHire']) # Tengo que transformar DateofHire en una columna \"datetime\"\n",
        "Data1.info"
      ],
      "execution_count": 35,
      "outputs": [
        {
          "output_type": "stream",
          "text": [
            "/usr/local/lib/python3.7/dist-packages/ipykernel_launcher.py:1: SettingWithCopyWarning: \n",
            "A value is trying to be set on a copy of a slice from a DataFrame.\n",
            "Try using .loc[row_indexer,col_indexer] = value instead\n",
            "\n",
            "See the caveats in the documentation: https://pandas.pydata.org/pandas-docs/stable/user_guide/indexing.html#returning-a-view-versus-a-copy\n",
            "  \"\"\"Entry point for launching an IPython kernel.\n"
          ],
          "name": "stderr"
        },
        {
          "output_type": "execute_result",
          "data": {
            "text/plain": [
              "<bound method DataFrame.info of      EmpID DateofHire\n",
              "0    10026 2011-07-05\n",
              "1    10084 2015-03-30\n",
              "2    10196 2011-07-05\n",
              "3    10088 2008-01-07\n",
              "4    10069 2011-07-11\n",
              "..     ...        ...\n",
              "306  10135 2014-07-07\n",
              "307  10301 2008-09-02\n",
              "308  10010 2010-04-10\n",
              "309  10043 2015-03-30\n",
              "310  10271 2014-09-29\n",
              "\n",
              "[311 rows x 2 columns]>"
            ]
          },
          "metadata": {
            "tags": []
          },
          "execution_count": 35
        }
      ]
    },
    {
      "cell_type": "code",
      "metadata": {
        "colab": {
          "base_uri": "https://localhost:8080/",
          "height": 297
        },
        "id": "l74CWjGSP1_z",
        "outputId": "b8e967cc-847e-4868-e290-aefe5d7ddc08"
      },
      "source": [
        "Data3 = Data1.groupby(pd.Grouper(key='DateofHire', freq='2y')).count() # Agrupo por la columna datetime (puedo poner Y, 2Y, M, 3M, etc)\n",
        "Data3.head(23)"
      ],
      "execution_count": 60,
      "outputs": [
        {
          "output_type": "execute_result",
          "data": {
            "text/html": [
              "<div>\n",
              "<style scoped>\n",
              "    .dataframe tbody tr th:only-of-type {\n",
              "        vertical-align: middle;\n",
              "    }\n",
              "\n",
              "    .dataframe tbody tr th {\n",
              "        vertical-align: top;\n",
              "    }\n",
              "\n",
              "    .dataframe thead th {\n",
              "        text-align: right;\n",
              "    }\n",
              "</style>\n",
              "<table border=\"1\" class=\"dataframe\">\n",
              "  <thead>\n",
              "    <tr style=\"text-align: right;\">\n",
              "      <th></th>\n",
              "      <th>EmpID</th>\n",
              "    </tr>\n",
              "    <tr>\n",
              "      <th>DateofHire</th>\n",
              "      <th></th>\n",
              "    </tr>\n",
              "  </thead>\n",
              "  <tbody>\n",
              "    <tr>\n",
              "      <th>2006-12-31</th>\n",
              "      <td>1</td>\n",
              "    </tr>\n",
              "    <tr>\n",
              "      <th>2008-12-31</th>\n",
              "      <td>5</td>\n",
              "    </tr>\n",
              "    <tr>\n",
              "      <th>2010-12-31</th>\n",
              "      <td>16</td>\n",
              "    </tr>\n",
              "    <tr>\n",
              "      <th>2012-12-31</th>\n",
              "      <td>128</td>\n",
              "    </tr>\n",
              "    <tr>\n",
              "      <th>2014-12-31</th>\n",
              "      <td>104</td>\n",
              "    </tr>\n",
              "    <tr>\n",
              "      <th>2016-12-31</th>\n",
              "      <td>50</td>\n",
              "    </tr>\n",
              "    <tr>\n",
              "      <th>2018-12-31</th>\n",
              "      <td>7</td>\n",
              "    </tr>\n",
              "  </tbody>\n",
              "</table>\n",
              "</div>"
            ],
            "text/plain": [
              "            EmpID\n",
              "DateofHire       \n",
              "2006-12-31      1\n",
              "2008-12-31      5\n",
              "2010-12-31     16\n",
              "2012-12-31    128\n",
              "2014-12-31    104\n",
              "2016-12-31     50\n",
              "2018-12-31      7"
            ]
          },
          "metadata": {
            "tags": []
          },
          "execution_count": 60
        }
      ]
    },
    {
      "cell_type": "code",
      "metadata": {
        "colab": {
          "base_uri": "https://localhost:8080/",
          "height": 297
        },
        "id": "k65sWYID6e5u",
        "outputId": "8d74c84e-022b-4312-8e36-cb9ecb7a1877"
      },
      "source": [
        "Data3['indice'] = Data3.index #transformo el indice en una columna que llamo indice\n",
        "Data3['year'] = Data3['indice'].dt.year # transformo ese datetime en año\n",
        "Data3.head(10)"
      ],
      "execution_count": 61,
      "outputs": [
        {
          "output_type": "execute_result",
          "data": {
            "text/html": [
              "<div>\n",
              "<style scoped>\n",
              "    .dataframe tbody tr th:only-of-type {\n",
              "        vertical-align: middle;\n",
              "    }\n",
              "\n",
              "    .dataframe tbody tr th {\n",
              "        vertical-align: top;\n",
              "    }\n",
              "\n",
              "    .dataframe thead th {\n",
              "        text-align: right;\n",
              "    }\n",
              "</style>\n",
              "<table border=\"1\" class=\"dataframe\">\n",
              "  <thead>\n",
              "    <tr style=\"text-align: right;\">\n",
              "      <th></th>\n",
              "      <th>EmpID</th>\n",
              "      <th>indice</th>\n",
              "      <th>year</th>\n",
              "    </tr>\n",
              "    <tr>\n",
              "      <th>DateofHire</th>\n",
              "      <th></th>\n",
              "      <th></th>\n",
              "      <th></th>\n",
              "    </tr>\n",
              "  </thead>\n",
              "  <tbody>\n",
              "    <tr>\n",
              "      <th>2006-12-31</th>\n",
              "      <td>1</td>\n",
              "      <td>2006-12-31</td>\n",
              "      <td>2006</td>\n",
              "    </tr>\n",
              "    <tr>\n",
              "      <th>2008-12-31</th>\n",
              "      <td>5</td>\n",
              "      <td>2008-12-31</td>\n",
              "      <td>2008</td>\n",
              "    </tr>\n",
              "    <tr>\n",
              "      <th>2010-12-31</th>\n",
              "      <td>16</td>\n",
              "      <td>2010-12-31</td>\n",
              "      <td>2010</td>\n",
              "    </tr>\n",
              "    <tr>\n",
              "      <th>2012-12-31</th>\n",
              "      <td>128</td>\n",
              "      <td>2012-12-31</td>\n",
              "      <td>2012</td>\n",
              "    </tr>\n",
              "    <tr>\n",
              "      <th>2014-12-31</th>\n",
              "      <td>104</td>\n",
              "      <td>2014-12-31</td>\n",
              "      <td>2014</td>\n",
              "    </tr>\n",
              "    <tr>\n",
              "      <th>2016-12-31</th>\n",
              "      <td>50</td>\n",
              "      <td>2016-12-31</td>\n",
              "      <td>2016</td>\n",
              "    </tr>\n",
              "    <tr>\n",
              "      <th>2018-12-31</th>\n",
              "      <td>7</td>\n",
              "      <td>2018-12-31</td>\n",
              "      <td>2018</td>\n",
              "    </tr>\n",
              "  </tbody>\n",
              "</table>\n",
              "</div>"
            ],
            "text/plain": [
              "            EmpID     indice  year\n",
              "DateofHire                        \n",
              "2006-12-31      1 2006-12-31  2006\n",
              "2008-12-31      5 2008-12-31  2008\n",
              "2010-12-31     16 2010-12-31  2010\n",
              "2012-12-31    128 2012-12-31  2012\n",
              "2014-12-31    104 2014-12-31  2014\n",
              "2016-12-31     50 2016-12-31  2016\n",
              "2018-12-31      7 2018-12-31  2018"
            ]
          },
          "metadata": {
            "tags": []
          },
          "execution_count": 61
        }
      ]
    },
    {
      "cell_type": "code",
      "metadata": {
        "colab": {
          "base_uri": "https://localhost:8080/",
          "height": 235
        },
        "id": "fiqaca1u-GD9",
        "outputId": "e35c24f3-89ae-4554-d121-28a971f45137"
      },
      "source": [
        "Data4 = Data3[['EmpID','year']] #elimino las que no quiero\n",
        "Data4.head()"
      ],
      "execution_count": 62,
      "outputs": [
        {
          "output_type": "execute_result",
          "data": {
            "text/html": [
              "<div>\n",
              "<style scoped>\n",
              "    .dataframe tbody tr th:only-of-type {\n",
              "        vertical-align: middle;\n",
              "    }\n",
              "\n",
              "    .dataframe tbody tr th {\n",
              "        vertical-align: top;\n",
              "    }\n",
              "\n",
              "    .dataframe thead th {\n",
              "        text-align: right;\n",
              "    }\n",
              "</style>\n",
              "<table border=\"1\" class=\"dataframe\">\n",
              "  <thead>\n",
              "    <tr style=\"text-align: right;\">\n",
              "      <th></th>\n",
              "      <th>EmpID</th>\n",
              "      <th>year</th>\n",
              "    </tr>\n",
              "    <tr>\n",
              "      <th>DateofHire</th>\n",
              "      <th></th>\n",
              "      <th></th>\n",
              "    </tr>\n",
              "  </thead>\n",
              "  <tbody>\n",
              "    <tr>\n",
              "      <th>2006-12-31</th>\n",
              "      <td>1</td>\n",
              "      <td>2006</td>\n",
              "    </tr>\n",
              "    <tr>\n",
              "      <th>2008-12-31</th>\n",
              "      <td>5</td>\n",
              "      <td>2008</td>\n",
              "    </tr>\n",
              "    <tr>\n",
              "      <th>2010-12-31</th>\n",
              "      <td>16</td>\n",
              "      <td>2010</td>\n",
              "    </tr>\n",
              "    <tr>\n",
              "      <th>2012-12-31</th>\n",
              "      <td>128</td>\n",
              "      <td>2012</td>\n",
              "    </tr>\n",
              "    <tr>\n",
              "      <th>2014-12-31</th>\n",
              "      <td>104</td>\n",
              "      <td>2014</td>\n",
              "    </tr>\n",
              "  </tbody>\n",
              "</table>\n",
              "</div>"
            ],
            "text/plain": [
              "            EmpID  year\n",
              "DateofHire             \n",
              "2006-12-31      1  2006\n",
              "2008-12-31      5  2008\n",
              "2010-12-31     16  2010\n",
              "2012-12-31    128  2012\n",
              "2014-12-31    104  2014"
            ]
          },
          "metadata": {
            "tags": []
          },
          "execution_count": 62
        }
      ]
    },
    {
      "cell_type": "code",
      "metadata": {
        "colab": {
          "base_uri": "https://localhost:8080/",
          "height": 265
        },
        "id": "fBwHm__i-We5",
        "outputId": "62055c69-7de6-492f-a274-e8a5e7bc2b59"
      },
      "source": [
        "import matplotlib.pyplot as plt #grafico!\n",
        "data_1 = Data4['EmpID'].tolist()\n",
        "data_2 = Data4['year'].tolist()\n",
        "\n",
        "height = Data4['EmpID'].tolist()\n",
        "bars = Data4['year'].tolist()\n",
        "\n",
        "x_pos = np.arange(len(bars))\n",
        " \n",
        "# Create bars and choose color\n",
        "plt.bar(x_pos, height, color = (0.5,0.1,0.5,0.6), width=.9)\n",
        " \n",
        "# Create names on the x axis\n",
        "plt.xticks(x_pos, bars)\n",
        " \n",
        "# Show graph\n",
        "plt.show()\n"
      ],
      "execution_count": 63,
      "outputs": [
        {
          "output_type": "display_data",
          "data": {
            "image/png": "[encoded data removed]",
            "text/plain": [
              "<Figure size 432x288 with 1 Axes>"
            ]
          },
          "metadata": {
            "tags": [],
            "needs_background": "light"
          }
        }
      ]
    }
  ]
}